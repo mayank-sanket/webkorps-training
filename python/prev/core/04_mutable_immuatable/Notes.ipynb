{
 "cells": [
  {
   "cell_type": "markdown",
   "metadata": {},
   "source": [
    "https://app.eraser.io/workspace/rqMxV5hpLPsLnmRKf2Az?origin=share"
   ]
  }
 ],
 "metadata": {
  "language_info": {
   "name": "python"
  }
 },
 "nbformat": 4,
 "nbformat_minor": 2
}
